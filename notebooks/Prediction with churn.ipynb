{
 "cells": [
  {
   "cell_type": "markdown",
   "metadata": {},
   "source": [
    "## Group 1 - BCG ClientCo Use Case - Modeling notebook "
   ]
  },
  {
   "cell_type": "code",
   "execution_count": 2,
   "metadata": {
    "ExecuteTime": {
     "end_time": "2021-02-09T21:18:14.410052Z",
     "start_time": "2021-02-09T21:18:14.395284Z"
    }
   },
   "outputs": [],
   "source": [
    "import numpy as np \n",
    "import pandas as pd \n",
    "import seaborn as sns \n",
    "import matplotlib.pyplot as plt \n",
    "from sklearn import preprocessing, svm \n",
    "from sklearn.model_selection import train_test_split \n",
    "from sklearn.linear_model import LinearRegression "
   ]
  },
  {
   "cell_type": "markdown",
   "metadata": {},
   "source": [
    "### Import data"
   ]
  },
  {
   "cell_type": "code",
   "execution_count": 3,
   "metadata": {
    "ExecuteTime": {
     "end_time": "2021-02-09T21:18:15.704932Z",
     "start_time": "2021-02-09T21:18:14.676275Z"
    }
   },
   "outputs": [],
   "source": [
    "df = pd.read_csv(\"sales_by_month.csv\", sep = \",\", index_col = 0)"
   ]
  },
  {
   "cell_type": "markdown",
   "metadata": {},
   "source": [
    "### Preprocessing"
   ]
  },
  {
   "cell_type": "code",
   "execution_count": 4,
   "metadata": {},
   "outputs": [],
   "source": [
    "# Removing the nan values\n",
    "df.dropna(axis=0,inplace=True)\n",
    "\n",
    "#Define quaters\n",
    "df['quarter'] = df['month'].apply(lambda x: (x-1)//3)\n",
    "\n",
    "# Removing negative transactions amounts\n",
    "df = df[df[\"sum(sales_net)\"] > 0]\n",
    "\n",
    "# Define year_quarters\n",
    "df[\"year_quarter\"] = df[\"year\"].astype(str) + \"_\" + df[\"quarter\"].astype(str)"
   ]
  },
  {
   "cell_type": "code",
   "execution_count": 5,
   "metadata": {},
   "outputs": [
    {
     "data": {
      "text/plain": [
       "<AxesSubplot: xlabel='year_quarter'>"
      ]
     },
     "execution_count": 5,
     "metadata": {},
     "output_type": "execute_result"
    },
    {
     "data": {
      "image/png": "[encoded data removed]",
      "text/plain": [
       "<Figure size 640x480 with 1 Axes>"
      ]
     },
     "metadata": {},
     "output_type": "display_data"
    }
   ],
   "source": [
    "# Plot the sum of sales by year_quarter to check seasonality\n",
    "quarter_sum = df.groupby([\"year_quarter\"])['sum(sales_net)'].sum()\n",
    "quarter_df = pd.DataFrame(quarter_sum)\n",
    "quarter_df['sum(sales_net)'].plot(kind='bar')"
   ]
  },
  {
   "cell_type": "code",
   "execution_count": 6,
   "metadata": {
    "ExecuteTime": {
     "end_time": "2021-02-09T21:18:19.142058Z",
     "start_time": "2021-02-09T21:18:15.708654Z"
    }
   },
   "outputs": [],
   "source": [
    "# Define Semester (Since we got so many NaNs when counted by quarter)\n",
    "def semester_function(year_quarter):\n",
    "    if year_quarter in ['2017_3','2018_0']:\n",
    "        return 'S0'\n",
    "    elif year_quarter in ['2018_1','2018_2']:\n",
    "        return 'S1'\n",
    "    elif year_quarter in ['2018_3','2019_0']:\n",
    "        return 'S2'\n",
    "    elif year_quarter in ['2019_1','2019_2']:\n",
    "        return 'S3'\n",
    "    else:\n",
    "        return 'ToDelete'\n",
    "df[\"semester\"] = df.year_quarter.apply(lambda x: semester_function(x))\n",
    "\n",
    "# Keep only relevant semesters, i.e. semesters with enough data\n",
    "df = df[df[\"semester\"] != 'ToDelete']\n",
    "\n",
    "# Aggregating sales by semester for every client\n",
    "df_agg = pd.DataFrame(df.groupby(['client_id','semester'])['sum(sales_net)'].sum()).reset_index()\n",
    "\n",
    "# Pivot table\n",
    "df_agg = df_agg.pivot_table(index = 'client_id', columns = 'semester', values = 'sum(sales_net)')\n",
    "\n",
    "# remove missing values to keep only main customers (i.e. 50% of the customers)\n",
    "df_agg.dropna(inplace = True)\n",
    "df_agg.reset_index(inplace = True)"
   ]
  },
  {
   "cell_type": "markdown",
   "metadata": {},
   "source": [
    "## Modeling\n",
    "\n",
    "We use a simple linear regression to predict S3 based on S0, S1 and S2"
   ]
  },
  {
   "cell_type": "code",
   "execution_count": 7,
   "metadata": {
    "ExecuteTime": {
     "end_time": "2021-02-09T21:18:19.181473Z",
     "start_time": "2021-02-09T21:18:19.146306Z"
    }
   },
   "outputs": [],
   "source": [
    "# Keeping only relevant columns and split the dataset between train and test\n",
    "X = df_agg[['S0', 'S1', 'S2']]\n",
    "y = df_agg['S3']\n",
    "X_train, X_test, y_train, y_test = train_test_split(X, y, test_size = 0.25)"
   ]
  },
  {
   "cell_type": "code",
   "execution_count": 8,
   "metadata": {
    "ExecuteTime": {
     "end_time": "2021-02-09T21:18:19.222997Z",
     "start_time": "2021-02-09T21:18:19.185634Z"
    }
   },
   "outputs": [
    {
     "name": "stdout",
     "output_type": "stream",
     "text": [
      "R2 value: 0.8662383773485689\n",
      " coefficients: [0.05792999 0.33561346 0.55636537]\n"
     ]
    }
   ],
   "source": [
    "# IMPORTANT: PLEASE RUN AGAIN THIS CELL IF IT FAILS ON FIRST RUN\n",
    "regr = LinearRegression() \n",
    "regr.fit(X_train, y_train) \n",
    "print(f'R2 value: {regr.score(X_test, y_test)}') \n",
    "print(f' coefficients: {regr.coef_}')"
   ]
  },
  {
   "cell_type": "code",
   "execution_count": 9,
   "metadata": {
    "ExecuteTime": {
     "end_time": "2021-02-09T21:18:19.284867Z",
     "start_time": "2021-02-09T21:18:19.227332Z"
    }
   },
   "outputs": [],
   "source": [
    "# Compute the predictions\n",
    "y_pred = regr.predict(X)\n",
    "df_agg[\"pred_S3\"] = y_pred \n",
    "\n",
    "# Set negative predictions to 0\n",
    "df_agg['pred_S3'] = df_agg['pred_S3'].apply(lambda x: 0 if x<0 else x)"
   ]
  },
  {
   "cell_type": "markdown",
   "metadata": {},
   "source": [
    "# Prioritization"
   ]
  },
  {
   "cell_type": "markdown",
   "metadata": {},
   "source": [
    "We use the predictions done in the modeling part to prioritize and allocate our resources based on the revenues at risk.\n",
    "\n",
    "For that, we multiply the **forecasted decrease of future orders** (i.e. the output of the modelling part) by the **Total Sales** of the client for the last 3 Semesters and finally by a **'coefficient of client relationship'** given by the Sales Team. \n",
    "\n",
    "Note: The 'coefficient of client relationship' corresponds to an estimation of how difficult is it to sell to the client."
   ]
  },
  {
   "cell_type": "markdown",
   "metadata": {},
   "source": [
    "## Forecasted decrease of future orders "
   ]
  },
  {
   "cell_type": "code",
   "execution_count": 10,
   "metadata": {
    "ExecuteTime": {
     "end_time": "2021-02-09T21:18:28.849824Z",
     "start_time": "2021-02-09T21:18:28.835978Z"
    }
   },
   "outputs": [],
   "source": [
    "df_pred = df_agg.copy()"
   ]
  },
  {
   "cell_type": "code",
   "execution_count": 11,
   "metadata": {
    "ExecuteTime": {
     "end_time": "2021-02-09T21:18:29.280998Z",
     "start_time": "2021-02-09T21:18:29.219019Z"
    }
   },
   "outputs": [],
   "source": [
    "# Compute the forecasted evolution of the orders and set this value between 0 and 1\n",
    "# The higher the value the bigger is the forecasted decrease of orders placed by the customer\n",
    "df_pred['percentage'] = (df_pred['S2'] - df_pred['pred_S3'] ) / df_pred['S2']\n",
    "df_pred['percentage'] = df_pred['percentage'].apply(lambda x: 0 if x < 0 else x)"
   ]
  },
  {
   "cell_type": "markdown",
   "metadata": {},
   "source": [
    "## Total Sales"
   ]
  },
  {
   "cell_type": "code",
   "execution_count": 12,
   "metadata": {
    "ExecuteTime": {
     "end_time": "2021-02-09T21:18:30.010102Z",
     "start_time": "2021-02-09T21:18:29.998708Z"
    }
   },
   "outputs": [],
   "source": [
    "# Compute final dataframe for priorization \n",
    "df_pred[\"total_sales\"] = df_pred[\"S0\"] + df_pred[\"S1\"] + df_pred[\"S2\"]"
   ]
  },
  {
   "cell_type": "code",
   "execution_count": 13,
   "metadata": {
    "ExecuteTime": {
     "end_time": "2021-02-09T21:18:30.330703Z",
     "start_time": "2021-02-09T21:18:30.269100Z"
    }
   },
   "outputs": [
    {
     "data": {
      "text/html": [
       "<div>\n",
       "<style scoped>\n",
       "    .dataframe tbody tr th:only-of-type {\n",
       "        vertical-align: middle;\n",
       "    }\n",
       "\n",
       "    .dataframe tbody tr th {\n",
       "        vertical-align: top;\n",
       "    }\n",
       "\n",
       "    .dataframe thead th {\n",
       "        text-align: right;\n",
       "    }\n",
       "</style>\n",
       "<table border=\"1\" class=\"dataframe\">\n",
       "  <thead>\n",
       "    <tr style=\"text-align: right;\">\n",
       "      <th>semester</th>\n",
       "      <th>client_id</th>\n",
       "      <th>percentage</th>\n",
       "      <th>total_sales</th>\n",
       "    </tr>\n",
       "  </thead>\n",
       "  <tbody>\n",
       "    <tr>\n",
       "      <th>0</th>\n",
       "      <td>6</td>\n",
       "      <td>0.158868</td>\n",
       "      <td>3.492387e+03</td>\n",
       "    </tr>\n",
       "    <tr>\n",
       "      <th>1</th>\n",
       "      <td>14</td>\n",
       "      <td>0.042482</td>\n",
       "      <td>2.362549e+06</td>\n",
       "    </tr>\n",
       "    <tr>\n",
       "      <th>2</th>\n",
       "      <td>18</td>\n",
       "      <td>0.069918</td>\n",
       "      <td>1.539239e+05</td>\n",
       "    </tr>\n",
       "    <tr>\n",
       "      <th>3</th>\n",
       "      <td>40</td>\n",
       "      <td>0.063424</td>\n",
       "      <td>2.278606e+04</td>\n",
       "    </tr>\n",
       "    <tr>\n",
       "      <th>4</th>\n",
       "      <td>56</td>\n",
       "      <td>0.000000</td>\n",
       "      <td>8.726349e+03</td>\n",
       "    </tr>\n",
       "  </tbody>\n",
       "</table>\n",
       "</div>"
      ],
      "text/plain": [
       "semester  client_id  percentage   total_sales\n",
       "0                 6    0.158868  3.492387e+03\n",
       "1                14    0.042482  2.362549e+06\n",
       "2                18    0.069918  1.539239e+05\n",
       "3                40    0.063424  2.278606e+04\n",
       "4                56    0.000000  8.726349e+03"
      ]
     },
     "execution_count": 13,
     "metadata": {},
     "output_type": "execute_result"
    }
   ],
   "source": [
    "df_fin = df_pred[[\"client_id\", \"percentage\", \"total_sales\"]]\n",
    "df_fin.rename(columns = {'semester': 'index'})\n",
    "df_fin.head()"
   ]
  },
  {
   "cell_type": "markdown",
   "metadata": {},
   "source": [
    "## Client relashionship"
   ]
  },
  {
   "cell_type": "code",
   "execution_count": 14,
   "metadata": {
    "ExecuteTime": {
     "end_time": "2021-02-09T21:21:47.631426Z",
     "start_time": "2021-02-09T21:21:47.414831Z"
    }
   },
   "outputs": [],
   "source": [
    "df_rel = pd.read_csv(\"sales_client_relationship_dataset.csv\")\n",
    "df_rel.sort_values(by = ['client_id'])\n",
    "df_rel[\"quali_percentage\"] = df_rel[\"quali_relation\"].apply(lambda x: 1 if x == \"Agreeable client\" else(0.9 if x == \"Demanding client\" else 0.8))"
   ]
  },
  {
   "cell_type": "code",
   "execution_count": 15,
   "metadata": {
    "ExecuteTime": {
     "end_time": "2021-02-09T21:22:00.061429Z",
     "start_time": "2021-02-09T21:21:59.947164Z"
    }
   },
   "outputs": [],
   "source": [
    "# Final Merge\n",
    "df_merged = df_fin.merge(df_rel, on = 'client_id', how = 'left')"
   ]
  },
  {
   "cell_type": "code",
   "execution_count": 16,
   "metadata": {
    "ExecuteTime": {
     "end_time": "2021-02-09T21:22:00.661495Z",
     "start_time": "2021-02-09T21:22:00.634019Z"
    }
   },
   "outputs": [],
   "source": [
    "# Final computation\n",
    "df_merged[\"final_scale\"] = df_merged[\"total_sales\"] * df_merged[\"percentage\"] * df_merged[\"quali_percentage\"]\n",
    "df_merged = df_merged[df_merged['final_scale'] > 0].reset_index()"
   ]
  },
  {
   "cell_type": "code",
   "execution_count": 17,
   "metadata": {
    "ExecuteTime": {
     "end_time": "2021-02-09T21:22:01.207470Z",
     "start_time": "2021-02-09T21:22:01.134646Z"
    },
    "scrolled": false
   },
   "outputs": [],
   "source": [
    "df_merged = df_merged.sort_values(by = ['final_scale'], ascending = False)"
   ]
  },
  {
   "cell_type": "markdown",
   "metadata": {},
   "source": [
    "### Re-engagement strategies"
   ]
  },
  {
   "cell_type": "code",
   "execution_count": 18,
   "metadata": {},
   "outputs": [],
   "source": [
    "df_merged[\"Re-engagement strategy\"] = df_merged[\"quali_relation\"].apply(lambda x: \"Email\" if x == \"Agreeable client\" else(\"Phone call\" if x == \"Demanding client\" else \"Client visit\"))\n",
    "df_merged[\"Re-engagement cost\"] = df_merged[\"quali_relation\"].apply(lambda x: 0 if x == \"Agreeable client\" else(80 if x == \"Demanding client\" else 320))"
   ]
  },
  {
   "cell_type": "code",
   "execution_count": 19,
   "metadata": {},
   "outputs": [
    {
     "data": {
      "text/html": [
       "<div>\n",
       "<style scoped>\n",
       "    .dataframe tbody tr th:only-of-type {\n",
       "        vertical-align: middle;\n",
       "    }\n",
       "\n",
       "    .dataframe tbody tr th {\n",
       "        vertical-align: top;\n",
       "    }\n",
       "\n",
       "    .dataframe thead th {\n",
       "        text-align: right;\n",
       "    }\n",
       "</style>\n",
       "<table border=\"1\" class=\"dataframe\">\n",
       "  <thead>\n",
       "    <tr style=\"text-align: right;\">\n",
       "      <th></th>\n",
       "      <th>index</th>\n",
       "      <th>client_id</th>\n",
       "      <th>percentage</th>\n",
       "      <th>total_sales</th>\n",
       "      <th>quali_relation</th>\n",
       "      <th>quali_percentage</th>\n",
       "      <th>final_scale</th>\n",
       "      <th>Re-engagement strategy</th>\n",
       "      <th>Re-engagement cost</th>\n",
       "      <th>Cumulative cost</th>\n",
       "    </tr>\n",
       "  </thead>\n",
       "  <tbody>\n",
       "    <tr>\n",
       "      <th>0</th>\n",
       "      <td>35692</td>\n",
       "      <td>1773169</td>\n",
       "      <td>0.102641</td>\n",
       "      <td>1.894549e+07</td>\n",
       "      <td>Difficult client</td>\n",
       "      <td>0.8</td>\n",
       "      <td>1.555665e+06</td>\n",
       "      <td>Client visit</td>\n",
       "      <td>320</td>\n",
       "      <td>320</td>\n",
       "    </tr>\n",
       "    <tr>\n",
       "      <th>1</th>\n",
       "      <td>40696</td>\n",
       "      <td>2023698</td>\n",
       "      <td>0.355377</td>\n",
       "      <td>4.178591e+06</td>\n",
       "      <td>Demanding client</td>\n",
       "      <td>0.9</td>\n",
       "      <td>1.336476e+06</td>\n",
       "      <td>Phone call</td>\n",
       "      <td>80</td>\n",
       "      <td>400</td>\n",
       "    </tr>\n",
       "    <tr>\n",
       "      <th>2</th>\n",
       "      <td>28763</td>\n",
       "      <td>1432531</td>\n",
       "      <td>0.237142</td>\n",
       "      <td>5.854796e+06</td>\n",
       "      <td>Difficult client</td>\n",
       "      <td>0.8</td>\n",
       "      <td>1.110737e+06</td>\n",
       "      <td>Client visit</td>\n",
       "      <td>320</td>\n",
       "      <td>720</td>\n",
       "    </tr>\n",
       "    <tr>\n",
       "      <th>3</th>\n",
       "      <td>40501</td>\n",
       "      <td>2012785</td>\n",
       "      <td>0.249323</td>\n",
       "      <td>4.311732e+06</td>\n",
       "      <td>Agreeable client</td>\n",
       "      <td>1.0</td>\n",
       "      <td>1.075015e+06</td>\n",
       "      <td>Email</td>\n",
       "      <td>0</td>\n",
       "      <td>720</td>\n",
       "    </tr>\n",
       "    <tr>\n",
       "      <th>4</th>\n",
       "      <td>29557</td>\n",
       "      <td>1470656</td>\n",
       "      <td>0.196064</td>\n",
       "      <td>5.849329e+06</td>\n",
       "      <td>Demanding client</td>\n",
       "      <td>0.9</td>\n",
       "      <td>1.032159e+06</td>\n",
       "      <td>Phone call</td>\n",
       "      <td>80</td>\n",
       "      <td>800</td>\n",
       "    </tr>\n",
       "    <tr>\n",
       "      <th>...</th>\n",
       "      <td>...</td>\n",
       "      <td>...</td>\n",
       "      <td>...</td>\n",
       "      <td>...</td>\n",
       "      <td>...</td>\n",
       "      <td>...</td>\n",
       "      <td>...</td>\n",
       "      <td>...</td>\n",
       "      <td>...</td>\n",
       "      <td>...</td>\n",
       "    </tr>\n",
       "    <tr>\n",
       "      <th>816</th>\n",
       "      <td>15908</td>\n",
       "      <td>797143</td>\n",
       "      <td>0.117667</td>\n",
       "      <td>8.605986e+05</td>\n",
       "      <td>Agreeable client</td>\n",
       "      <td>1.0</td>\n",
       "      <td>1.012638e+05</td>\n",
       "      <td>Email</td>\n",
       "      <td>0</td>\n",
       "      <td>99760</td>\n",
       "    </tr>\n",
       "    <tr>\n",
       "      <th>817</th>\n",
       "      <td>23375</td>\n",
       "      <td>1168425</td>\n",
       "      <td>0.259647</td>\n",
       "      <td>4.326047e+05</td>\n",
       "      <td>Demanding client</td>\n",
       "      <td>0.9</td>\n",
       "      <td>1.010920e+05</td>\n",
       "      <td>Phone call</td>\n",
       "      <td>80</td>\n",
       "      <td>99840</td>\n",
       "    </tr>\n",
       "    <tr>\n",
       "      <th>818</th>\n",
       "      <td>6618</td>\n",
       "      <td>330472</td>\n",
       "      <td>0.212079</td>\n",
       "      <td>4.761816e+05</td>\n",
       "      <td>Agreeable client</td>\n",
       "      <td>1.0</td>\n",
       "      <td>1.009882e+05</td>\n",
       "      <td>Email</td>\n",
       "      <td>0</td>\n",
       "      <td>99840</td>\n",
       "    </tr>\n",
       "    <tr>\n",
       "      <th>819</th>\n",
       "      <td>8743</td>\n",
       "      <td>436955</td>\n",
       "      <td>0.083859</td>\n",
       "      <td>1.337523e+06</td>\n",
       "      <td>Demanding client</td>\n",
       "      <td>0.9</td>\n",
       "      <td>1.009474e+05</td>\n",
       "      <td>Phone call</td>\n",
       "      <td>80</td>\n",
       "      <td>99920</td>\n",
       "    </tr>\n",
       "    <tr>\n",
       "      <th>820</th>\n",
       "      <td>35231</td>\n",
       "      <td>1751948</td>\n",
       "      <td>0.145652</td>\n",
       "      <td>6.922843e+05</td>\n",
       "      <td>Agreeable client</td>\n",
       "      <td>1.0</td>\n",
       "      <td>1.008327e+05</td>\n",
       "      <td>Email</td>\n",
       "      <td>0</td>\n",
       "      <td>99920</td>\n",
       "    </tr>\n",
       "  </tbody>\n",
       "</table>\n",
       "<p>821 rows × 10 columns</p>\n",
       "</div>"
      ],
      "text/plain": [
       "     index  client_id  percentage   total_sales    quali_relation  \\\n",
       "0    35692    1773169    0.102641  1.894549e+07  Difficult client   \n",
       "1    40696    2023698    0.355377  4.178591e+06  Demanding client   \n",
       "2    28763    1432531    0.237142  5.854796e+06  Difficult client   \n",
       "3    40501    2012785    0.249323  4.311732e+06  Agreeable client   \n",
       "4    29557    1470656    0.196064  5.849329e+06  Demanding client   \n",
       "..     ...        ...         ...           ...               ...   \n",
       "816  15908     797143    0.117667  8.605986e+05  Agreeable client   \n",
       "817  23375    1168425    0.259647  4.326047e+05  Demanding client   \n",
       "818   6618     330472    0.212079  4.761816e+05  Agreeable client   \n",
       "819   8743     436955    0.083859  1.337523e+06  Demanding client   \n",
       "820  35231    1751948    0.145652  6.922843e+05  Agreeable client   \n",
       "\n",
       "     quali_percentage   final_scale Re-engagement strategy  \\\n",
       "0                 0.8  1.555665e+06           Client visit   \n",
       "1                 0.9  1.336476e+06             Phone call   \n",
       "2                 0.8  1.110737e+06           Client visit   \n",
       "3                 1.0  1.075015e+06                  Email   \n",
       "4                 0.9  1.032159e+06             Phone call   \n",
       "..                ...           ...                    ...   \n",
       "816               1.0  1.012638e+05                  Email   \n",
       "817               0.9  1.010920e+05             Phone call   \n",
       "818               1.0  1.009882e+05                  Email   \n",
       "819               0.9  1.009474e+05             Phone call   \n",
       "820               1.0  1.008327e+05                  Email   \n",
       "\n",
       "     Re-engagement cost  Cumulative cost  \n",
       "0                   320              320  \n",
       "1                    80              400  \n",
       "2                   320              720  \n",
       "3                     0              720  \n",
       "4                    80              800  \n",
       "..                  ...              ...  \n",
       "816                   0            99760  \n",
       "817                  80            99840  \n",
       "818                   0            99840  \n",
       "819                  80            99920  \n",
       "820                   0            99920  \n",
       "\n",
       "[821 rows x 10 columns]"
      ]
     },
     "execution_count": 19,
     "metadata": {},
     "output_type": "execute_result"
    }
   ],
   "source": [
    "# Cumulative cost to account for 100k budget\n",
    "df_merged[\"Cumulative cost\"] = df_merged[\"Re-engagement cost\"].cumsum()\n",
    "df_merged = df_merged[df_merged[\"Cumulative cost\"] < 100000] \n",
    "df_merged.drop(columns = [\"index\"]).reset_index()"
   ]
  },
  {
   "cell_type": "markdown",
   "metadata": {},
   "source": [
    "right now we are based on some assumptions and linear regression prediction. We can still try tree beased models and ARIMA for the prediction of churns\n"
   ]
  },
  {
   "cell_type": "code",
   "execution_count": null,
   "metadata": {},
   "outputs": [],
   "source": []
  }
 ],
 "metadata": {
  "kernelspec": {
   "display_name": "Python 3.9.13 64-bit",
   "language": "python",
   "name": "python3"
  },
  "language_info": {
   "codemirror_mode": {
    "name": "ipython",
    "version": 3
   },
   "file_extension": ".py",
   "mimetype": "text/x-python",
   "name": "python",
   "nbconvert_exporter": "python",
   "pygments_lexer": "ipython3",
   "version": "3.9.13"
  },
  "toc": {
   "base_numbering": 1,
   "nav_menu": {},
   "number_sections": true,
   "sideBar": true,
   "skip_h1_title": false,
   "title_cell": "Table of Contents",
   "title_sidebar": "Contents",
   "toc_cell": false,
   "toc_position": {},
   "toc_section_display": true,
   "toc_window_display": false
  },
  "vscode": {
   "interpreter": {
    "hash": "397704579725e15f5c7cb49fe5f0341eb7531c82d19f2c29d197e8b64ab5776b"
   }
  }
 },
 "nbformat": 4,
 "nbformat_minor": 4
}
